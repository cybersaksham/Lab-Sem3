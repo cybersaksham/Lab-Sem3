{
 "cells": [
  {
   "cell_type": "code",
   "execution_count": 1,
   "id": "a84787c0",
   "metadata": {},
   "outputs": [],
   "source": [
    "def checkPalindrome(s):\n",
    "    n = len(s)\n",
    "    if n <= 1:\n",
    "        return True\n",
    "    elif n == 2:\n",
    "        return s[0] == s[1]\n",
    "    return (s[0] == s[-1]) and checkPalindrome(s[1:n - 1])"
   ]
  },
  {
   "cell_type": "code",
   "execution_count": 7,
   "id": "515f954e",
   "metadata": {},
   "outputs": [
    {
     "name": "stdout",
     "output_type": "stream",
     "text": [
      "hih\n",
      "True\n"
     ]
    }
   ],
   "source": [
    "print(checkPalindrome(input()))"
   ]
  },
  {
   "cell_type": "code",
   "execution_count": null,
   "id": "b1e0b63f",
   "metadata": {},
   "outputs": [],
   "source": []
  }
 ],
 "metadata": {
  "kernelspec": {
   "display_name": "Python 3 (ipykernel)",
   "language": "python",
   "name": "python3"
  },
  "language_info": {
   "codemirror_mode": {
    "name": "ipython",
    "version": 3
   },
   "file_extension": ".py",
   "mimetype": "text/x-python",
   "name": "python",
   "nbconvert_exporter": "python",
   "pygments_lexer": "ipython3",
   "version": "3.10.2"
  }
 },
 "nbformat": 4,
 "nbformat_minor": 5
}
