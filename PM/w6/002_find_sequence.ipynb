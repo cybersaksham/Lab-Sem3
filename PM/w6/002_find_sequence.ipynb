{
 "cells": [
  {
   "cell_type": "code",
   "execution_count": 19,
   "id": "3e6c3c99",
   "metadata": {},
   "outputs": [],
   "source": [
    "import re\n",
    "\n",
    "pattern = re.compile(\"[A-Z][a-z]+\")\n",
    "\n",
    "def findSequence(strInp):\n",
    "    return re.findall(pattern, strInp)"
   ]
  },
  {
   "cell_type": "code",
   "execution_count": 21,
   "id": "0a1ca647",
   "metadata": {},
   "outputs": [
    {
     "name": "stdout",
     "output_type": "stream",
     "text": [
      "String = Hell,HoHHHin\n",
      "['Hell', 'Ho', 'Hin']\n"
     ]
    }
   ],
   "source": [
    "print(findSequence(input(\"String = \")))"
   ]
  },
  {
   "cell_type": "code",
   "execution_count": null,
   "id": "c1d65595",
   "metadata": {},
   "outputs": [],
   "source": []
  }
 ],
 "metadata": {
  "kernelspec": {
   "display_name": "Python 3 (ipykernel)",
   "language": "python",
   "name": "python3"
  },
  "language_info": {
   "codemirror_mode": {
    "name": "ipython",
    "version": 3
   },
   "file_extension": ".py",
   "mimetype": "text/x-python",
   "name": "python",
   "nbconvert_exporter": "python",
   "pygments_lexer": "ipython3",
   "version": "3.10.2"
  }
 },
 "nbformat": 4,
 "nbformat_minor": 5
}
