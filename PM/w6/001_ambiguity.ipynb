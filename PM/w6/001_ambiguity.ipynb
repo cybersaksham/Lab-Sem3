{
 "cells": [
  {
   "cell_type": "code",
   "execution_count": 58,
   "metadata": {},
   "outputs": [],
   "source": [
    "def expand_non_ter(non_ter, grammar, terminals, non_terminals):\n",
    "    results = []\n",
    "    for rule in grammar:\n",
    "        if rule[0] == non_ter:\n",
    "            tmp_res = expand(rule, grammar, terminals, non_terminals)\n",
    "            if len(results) == 0:\n",
    "                for itm in tmp_res:\n",
    "                    results += itm\n",
    "            else:\n",
    "                for i, itm in enumerate(results):\n",
    "                    for itm2 in tmp_res:\n",
    "                        results += itm2\n",
    "    return results"
   ]
  },
  {
   "cell_type": "code",
   "execution_count": 59,
   "metadata": {},
   "outputs": [],
   "source": [
    "def expand(rule, grammar, terminals, non_terminals):\n",
    "    results = []\n",
    "    \n",
    "    for itm in rule[1]:\n",
    "        tmp_res = []\n",
    "        if itm in terminals:\n",
    "            tmp_res.append([itm])\n",
    "        else:\n",
    "            tmp_res.append(expand_non_ter(itm, grammar, terminals, non_terminals))\n",
    "        \n",
    "        tmp_res2 = []\n",
    "        for itm2 in tmp_res:\n",
    "            if len(tmp_res2) == 0:\n",
    "                tmp_res2 += itm2\n",
    "            else:\n",
    "                for i, itm3 in enumerate(tmp_res2):\n",
    "                    for itm4 in itm2:\n",
    "                        tmp_res2[i] += itm4\n",
    "        \n",
    "        if len(results) == 0:\n",
    "            results += tmp_res2\n",
    "        else:\n",
    "            for i, itm in enumerate(results):\n",
    "                for itm2 in tmp_res2:\n",
    "                    results[i] += itm2\n",
    "    \n",
    "    return results\n"
   ]
  },
  {
   "cell_type": "code",
   "execution_count": 60,
   "metadata": {},
   "outputs": [],
   "source": [
    "def isambiguous(grammar, non_ter, ter, start, inp_string):\n",
    "    results = []\n",
    "    for rule in grammar:\n",
    "        if rule[0] == start:\n",
    "            results += expand(rule, grammar, terminals, non_terminals)\n",
    "    return len([token for token in results if token == inp_string]) > 1"
   ]
  },
  {
   "cell_type": "code",
   "execution_count": 63,
   "metadata": {
    "scrolled": true
   },
   "outputs": [
    {
     "name": "stdout",
     "output_type": "stream",
     "text": [
      "No of rules = 4\n",
      "Rule 1\n",
      "Non-Terminal Symbol = S\n",
      "Terminal symbols seperated by space = A B\n",
      "Rule 2\n",
      "Non-Terminal Symbol = S\n",
      "Terminal symbols seperated by space = B A\n",
      "Rule 3\n",
      "Non-Terminal Symbol = A\n",
      "Terminal symbols seperated by space = a\n",
      "Rule 4\n",
      "Non-Terminal Symbol = B\n",
      "Terminal symbols seperated by space = a\n",
      "String to check = aa\n",
      "True\n"
     ]
    }
   ],
   "source": [
    "n = int(input(\"No of rules = \"))\n",
    "\n",
    "start = None\n",
    "grammar = []\n",
    "non_terminals = []\n",
    "terminals = []\n",
    "\n",
    "for i in range(n):\n",
    "    print(\"Rule \" + str(i + 1))\n",
    "    non_ter = input(\"Non-Terminal Symbol = \")\n",
    "    ter = input(\"Terminal symbols seperated by space = \").split(\" \")\n",
    "    grammar.append((non_ter, ter))\n",
    "    if non_ter not in non_terminals:\n",
    "        non_terminals.append(non_ter)\n",
    "    if not start:\n",
    "        start = non_ter\n",
    "\n",
    "for rule in grammar:\n",
    "    for ter in rule[1]:\n",
    "        if ter not in non_terminals and ter not in terminals:\n",
    "            terminals.append(ter)\n",
    "\n",
    "inp_string = input(\"String to check = \")\n",
    "\n",
    "print(isambiguous(grammar, terminals, non_terminals, start, inp_string))"
   ]
  },
  {
   "cell_type": "code",
   "execution_count": null,
   "metadata": {},
   "outputs": [],
   "source": []
  }
 ],
 "metadata": {
  "kernelspec": {
   "display_name": "Python 3",
   "language": "python",
   "name": "python3"
  },
  "language_info": {
   "codemirror_mode": {
    "name": "ipython",
    "version": 3
   },
   "file_extension": ".py",
   "mimetype": "text/x-python",
   "name": "python",
   "nbconvert_exporter": "python",
   "pygments_lexer": "ipython3",
   "version": "3.6.9"
  }
 },
 "nbformat": 4,
 "nbformat_minor": 2
}
