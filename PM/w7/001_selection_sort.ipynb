{
 "cells": [
  {
   "cell_type": "code",
   "execution_count": 1,
   "metadata": {},
   "outputs": [],
   "source": [
    "def swap(ls, i, j):\n",
    "    tmp = ls[i]\n",
    "    ls[i] = ls[j]\n",
    "    ls[j] = tmp\n",
    "    return ls"
   ]
  },
  {
   "cell_type": "code",
   "execution_count": 4,
   "metadata": {},
   "outputs": [],
   "source": [
    "def selectionSort(ls):\n",
    "    n = len(ls)\n",
    "    for i in range(n - 1):\n",
    "        minElem = ls[i]\n",
    "        minIndex = i\n",
    "        for j in range(i + 1, n):\n",
    "            if ls[j] < minElem:\n",
    "                minElem = ls[j]\n",
    "                minIndex = j\n",
    "        ls = swap(ls, i, minIndex)\n",
    "    return ls"
   ]
  },
  {
   "cell_type": "code",
   "execution_count": 5,
   "metadata": {},
   "outputs": [
    {
     "name": "stdout",
     "output_type": "stream",
     "text": [
      "Elements of list seperated by space = 4 5 1 7 4 2 -5 1 -4 6\n",
      "[-5, -4, 1, 1, 2, 4, 4, 5, 6, 7]\n"
     ]
    }
   ],
   "source": [
    "ls = [int(i) for i in input(\"Elements of list seperated by space = \").split(\" \")]\n",
    "print(selectionSort(ls))"
   ]
  }
 ],
 "metadata": {
  "kernelspec": {
   "display_name": "Python 3",
   "language": "python",
   "name": "python3"
  },
  "language_info": {
   "codemirror_mode": {
    "name": "ipython",
    "version": 3
   },
   "file_extension": ".py",
   "mimetype": "text/x-python",
   "name": "python",
   "nbconvert_exporter": "python",
   "pygments_lexer": "ipython3",
   "version": "3.6.9"
  }
 },
 "nbformat": 4,
 "nbformat_minor": 2
}
