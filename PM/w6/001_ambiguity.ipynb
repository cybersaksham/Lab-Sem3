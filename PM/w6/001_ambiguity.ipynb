{
 "cells": [
  {
   "cell_type": "code",
   "execution_count": 27,
   "id": "effe1f27",
   "metadata": {},
   "outputs": [],
   "source": [
    "def expand(tokens_derivations, grammar):\n",
    "    (tokens, derivations) = tokens_derivations\n",
    "    for t, token in enumerate(tokens):\n",
    "        for i, rule in enumerate(grammar):\n",
    "            if token == rule[0]:\n",
    "                yield((tokens[0:t] + [rule[1]] + tokens[t + 1:]), derivations + [i])"
   ]
  },
  {
   "cell_type": "code",
   "execution_count": 28,
   "id": "30273c42",
   "metadata": {},
   "outputs": [],
   "source": [
    "def isambiguous(grammar, start, pattern):\n",
    "    tokens = [([start], [])]\n",
    "    while True:\n",
    "        new_tokens = tokens\n",
    "        for i in tokens:\n",
    "            new_tokens = new_tokens + [j for j in list(expand(i, grammar)) if not j in new_tokens]\n",
    "\n",
    "        if new_tokens != tokens:\n",
    "            tokens = new_tokens\n",
    "        else:\n",
    "            break\n",
    "    return len([token for token in tokens if token[0] == pattern]) > 1"
   ]
  },
  {
   "cell_type": "code",
   "execution_count": 31,
   "id": "269a1891",
   "metadata": {},
   "outputs": [
    {
     "name": "stdout",
     "output_type": "stream",
     "text": [
      "Grammar is ambiguous\n"
     ]
    }
   ],
   "source": [
    "grammar = [\n",
    "    (\"S\", \"P\"),\n",
    "    (\"S\", \"Q\"),\n",
    "    (\"P\", \"Q\"),\n",
    "    (\"Q\", \"b\"),\n",
    "]\n",
    "\n",
    "print(\"Grammar is ambiguous\" if isambiguous(grammar, \"S\", [\"b\"]) else \"Grammmer is not ambiguous\")"
   ]
  },
  {
   "cell_type": "code",
   "execution_count": null,
   "id": "cff5c4df",
   "metadata": {},
   "outputs": [],
   "source": []
  }
 ],
 "metadata": {
  "kernelspec": {
   "display_name": "Python 3 (ipykernel)",
   "language": "python",
   "name": "python3"
  },
  "language_info": {
   "codemirror_mode": {
    "name": "ipython",
    "version": 3
   },
   "file_extension": ".py",
   "mimetype": "text/x-python",
   "name": "python",
   "nbconvert_exporter": "python",
   "pygments_lexer": "ipython3",
   "version": "3.10.2"
  }
 },
 "nbformat": 4,
 "nbformat_minor": 5
}
