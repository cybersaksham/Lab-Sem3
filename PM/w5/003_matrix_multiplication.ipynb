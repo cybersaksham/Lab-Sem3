{
 "cells": [
  {
   "cell_type": "code",
   "execution_count": 5,
   "metadata": {},
   "outputs": [],
   "source": [
    "def matrix_multiplication(A, B):\n",
    "    m = len(A)\n",
    "    p = len(B)\n",
    "\n",
    "    if m == 0 or p == 0:\n",
    "        print(\"Invalid size\")\n",
    "        return 0\n",
    "\n",
    "    n = len(A[0])\n",
    "    q = len(B[0])\n",
    "    \n",
    "    if n != p:\n",
    "        print(\"Invalid size\")\n",
    "        return 0\n",
    "    \n",
    "    final_mat = []\n",
    "    \n",
    "    for i in range(m):\n",
    "        final_mat.append([])\n",
    "        for j in range(q):\n",
    "            sum = 0\n",
    "            for k in range(n):\n",
    "                sum += (A[i][k] * B[k][j])\n",
    "            final_mat[i].append(sum)\n",
    "    \n",
    "    return final_mat\n",
    "\n",
    "def print_mat(A):\n",
    "    m = len(A)\n",
    "    if m == 0:\n",
    "        return\n",
    "    n = len(A[0])\n",
    "    \n",
    "    for i in range(m):\n",
    "        for j in range(n):\n",
    "            print(A[i][j], end=\" \")\n",
    "        print()"
   ]
  },
  {
   "cell_type": "code",
   "execution_count": 6,
   "metadata": {},
   "outputs": [
    {
     "name": "stdout",
     "output_type": "stream",
     "text": [
      "Enter rows of first matrix = 3\n",
      "Enter columns of first matrix = 3\n",
      "Enter rows of second matrix = 3\n",
      "Enter columns of second matrix = 3\n",
      "\n",
      "For matrix 1:\n",
      "Enter row 1 seperated by spaces1 2 3\n",
      "Enter row 2 seperated by spaces1 2 3\n",
      "Enter row 3 seperated by spaces1 2 3\n",
      "For matrix 2:\n",
      "Enter row 1 seperated by spaces3 2 1\n",
      "Enter row 2 seperated by spaces2 3 1\n",
      "Enter row 3 seperated by spaces1 2 3\n",
      "10 14 12 \n",
      "10 14 12 \n",
      "10 14 12 \n"
     ]
    }
   ],
   "source": [
    "m = int(input(\"Enter rows of first matrix = \"))\n",
    "n = int(input(\"Enter columns of first matrix = \"))\n",
    "p = int(input(\"Enter rows of second matrix = \"))\n",
    "q = int(input(\"Enter columns of second matrix = \"))\n",
    "\n",
    "A = []\n",
    "B = []\n",
    "\n",
    "print()\n",
    "print(\"For matrix 1:\")\n",
    "for i in range(m):\n",
    "    print(\"Enter row\", (i + 1), \"seperated by spaces\", end = \"\")\n",
    "    A.append(list(int(i) for i in input().split(\" \")))\n",
    "\n",
    "print(\"For matrix 2:\")\n",
    "for i in range(p):\n",
    "    print(\"Enter row\", (i + 1), \"seperated by spaces\", end = \"\")\n",
    "    B.append(list(int(i) for i in input().split(\" \")))\n",
    "\n",
    "final_mat = matrix_multiplication(A, B)\n",
    "print_mat(final_mat)"
   ]
  }
 ],
 "metadata": {
  "kernelspec": {
   "display_name": "Python 3",
   "language": "python",
   "name": "python3"
  },
  "language_info": {
   "codemirror_mode": {
    "name": "ipython",
    "version": 3
   },
   "file_extension": ".py",
   "mimetype": "text/x-python",
   "name": "python",
   "nbconvert_exporter": "python",
   "pygments_lexer": "ipython3",
   "version": "3.6.9"
  }
 },
 "nbformat": 4,
 "nbformat_minor": 2
}
