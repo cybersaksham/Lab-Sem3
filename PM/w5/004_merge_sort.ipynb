{
 "cells": [
  {
   "cell_type": "code",
   "execution_count": 2,
   "metadata": {},
   "outputs": [],
   "source": [
    "def merge(A, B):\n",
    "    m = len(A)\n",
    "    n = len(B)\n",
    "    \n",
    "    C = []\n",
    "    \n",
    "    i = j = k = 0\n",
    "    \n",
    "    while i < m and j < n:\n",
    "        if A[i] < B[j]:\n",
    "            C.append(A[i])\n",
    "            i += 1\n",
    "        elif A[i] > B[j]:\n",
    "            C.append(B[j])\n",
    "            j += 1\n",
    "        else:\n",
    "            C.append(A[i])\n",
    "            C.append(B[j])\n",
    "            i += 1\n",
    "            j += 1\n",
    "    \n",
    "    while i < m:\n",
    "        C.append(A[i])\n",
    "        i += 1\n",
    "    \n",
    "    while j < n:\n",
    "        C.append(B[j])\n",
    "        j += 1\n",
    "    \n",
    "    return C"
   ]
  },
  {
   "cell_type": "code",
   "execution_count": 8,
   "metadata": {},
   "outputs": [],
   "source": [
    "def merge_sort(A):\n",
    "    n = len(A)\n",
    "    if n <= 1:\n",
    "        return A\n",
    "    mid = n // 2\n",
    "    B = merge_sort(A[0 : mid])\n",
    "    C = merge_sort(A[mid : ])\n",
    "    A = merge(B, C)\n",
    "    return A"
   ]
  },
  {
   "cell_type": "code",
   "execution_count": 9,
   "metadata": {},
   "outputs": [],
   "source": [
    "def print_list(A):\n",
    "    for item in A:\n",
    "        print(item, end = \" \")\n",
    "    print()"
   ]
  },
  {
   "cell_type": "code",
   "execution_count": 11,
   "metadata": {},
   "outputs": [
    {
     "name": "stdout",
     "output_type": "stream",
     "text": [
      "Enter array elements seperated by space\n",
      "-1 8 4 5 2 1 7 8 9 -2\n",
      "-2 -1 1 2 4 5 7 8 8 9 \n"
     ]
    }
   ],
   "source": [
    "print(\"Enter array elements seperated by space\")\n",
    "A = [int(i) for i in input().split(\" \")]\n",
    "print_list(merge_sort(A))"
   ]
  },
  {
   "cell_type": "code",
   "execution_count": null,
   "metadata": {},
   "outputs": [],
   "source": []
  }
 ],
 "metadata": {
  "kernelspec": {
   "display_name": "Python 3",
   "language": "python",
   "name": "python3"
  },
  "language_info": {
   "codemirror_mode": {
    "name": "ipython",
    "version": 3
   },
   "file_extension": ".py",
   "mimetype": "text/x-python",
   "name": "python",
   "nbconvert_exporter": "python",
   "pygments_lexer": "ipython3",
   "version": "3.6.9"
  }
 },
 "nbformat": 4,
 "nbformat_minor": 2
}
