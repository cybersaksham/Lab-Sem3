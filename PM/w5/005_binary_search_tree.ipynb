{
 "cells": [
  {
   "cell_type": "code",
   "execution_count": 4,
   "metadata": {},
   "outputs": [],
   "source": [
    "class Node:\n",
    "    def __init__(self, data = 0, left = None, right = None):\n",
    "        self.data = data\n",
    "        self.left = left\n",
    "        self.right = right\n",
    "    \n",
    "    @staticmethod\n",
    "    def create_node(val, left = None, right = None):\n",
    "        return Node(val, left, right)\n",
    "    \n",
    "    def insert_node(self, val):\n",
    "        if self.data == val:\n",
    "            return self\n",
    "        elif val < self.data:\n",
    "            if self.left:\n",
    "                self.left = self.left.insert_node(val)\n",
    "            else:\n",
    "                self.left = self.create_node(val)\n",
    "        else:\n",
    "            if self.right:\n",
    "                self.right = self.right.insert_node(val)\n",
    "            else:\n",
    "                self.right = self.create_node(val)\n",
    "        return self\n",
    "    \n",
    "    def inorder_traversal(self):\n",
    "        if(self.left):\n",
    "            self.left.inorder_traversal()\n",
    "        print(self.data)\n",
    "        if(self.right):\n",
    "            self.right.inorder_traversal()"
   ]
  },
  {
   "cell_type": "code",
   "execution_count": 6,
   "metadata": {},
   "outputs": [
    {
     "name": "stdout",
     "output_type": "stream",
     "text": [
      "Enter 0 for insertion, 1 for inorder, any other for exit = 0\n",
      "Enter value to insert = 5\n",
      "Enter 0 for insertion, 1 for inorder, any other for exit = 0\n",
      "Enter value to insert = 10\n",
      "Enter 0 for insertion, 1 for inorder, any other for exit = 0\n",
      "Enter value to insert = -1\n",
      "Enter 0 for insertion, 1 for inorder, any other for exit = 1\n",
      "-1\n",
      "0\n",
      "5\n",
      "10\n",
      "Enter 0 for insertion, 1 for inorder, any other for exit = 0\n",
      "Enter value to insert = 4\n",
      "Enter 0 for insertion, 1 for inorder, any other for exit = 1\n",
      "-1\n",
      "0\n",
      "4\n",
      "5\n",
      "10\n",
      "Enter 0 for insertion, 1 for inorder, any other for exit = 2\n"
     ]
    }
   ],
   "source": [
    "mynode = Node(0)\n",
    "\n",
    "q = 0\n",
    "while q == 0 or q == 1:\n",
    "    q = int(input(\"Enter 0 for insertion, 1 for inorder, any other for exit = \"))\n",
    "    if q == 0:\n",
    "        val = int(input(\"Enter value to insert = \"))\n",
    "        mynode.insert_node(val)\n",
    "    elif q == 1:\n",
    "        mynode.inorder_traversal()"
   ]
  }
 ],
 "metadata": {
  "kernelspec": {
   "display_name": "Python 3",
   "language": "python",
   "name": "python3"
  },
  "language_info": {
   "codemirror_mode": {
    "name": "ipython",
    "version": 3
   },
   "file_extension": ".py",
   "mimetype": "text/x-python",
   "name": "python",
   "nbconvert_exporter": "python",
   "pygments_lexer": "ipython3",
   "version": "3.6.9"
  }
 },
 "nbformat": 4,
 "nbformat_minor": 2
}
