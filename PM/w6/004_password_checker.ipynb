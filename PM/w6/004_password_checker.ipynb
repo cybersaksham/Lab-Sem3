{
 "cells": [
  {
   "cell_type": "code",
   "execution_count": 14,
   "id": "264e8f13",
   "metadata": {},
   "outputs": [],
   "source": [
    "import re\n",
    "\n",
    "reg = \"^.*(?=.{6,20})(?=.*[a-z])(?=.*[A-Z])(?=.*\\d)(?=.*[?@#$%^&+=]).*$\"\n",
    "match_reg = re.compile(reg)\n",
    "\n",
    "def checkPassword(passwd):\n",
    "    return re.search(match_reg, passwd)"
   ]
  },
  {
   "cell_type": "code",
   "execution_count": 15,
   "id": "2b3ab069",
   "metadata": {
    "scrolled": true
   },
   "outputs": [
    {
     "name": "stdout",
     "output_type": "stream",
     "text": [
      "sakshAm@1\n",
      "Valid Password\n"
     ]
    }
   ],
   "source": [
    "print(\"Valid Password\" if checkPassword(input()) else \"Invalid Password\")"
   ]
  },
  {
   "cell_type": "code",
   "execution_count": null,
   "id": "2aa4c4ad",
   "metadata": {},
   "outputs": [],
   "source": []
  }
 ],
 "metadata": {
  "kernelspec": {
   "display_name": "Python 3 (ipykernel)",
   "language": "python",
   "name": "python3"
  },
  "language_info": {
   "codemirror_mode": {
    "name": "ipython",
    "version": 3
   },
   "file_extension": ".py",
   "mimetype": "text/x-python",
   "name": "python",
   "nbconvert_exporter": "python",
   "pygments_lexer": "ipython3",
   "version": "3.10.2"
  }
 },
 "nbformat": 4,
 "nbformat_minor": 5
}
