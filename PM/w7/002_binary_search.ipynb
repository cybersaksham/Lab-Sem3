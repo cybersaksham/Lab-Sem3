{
 "cells": [
  {
   "cell_type": "code",
   "execution_count": 2,
   "metadata": {},
   "outputs": [],
   "source": [
    "def binarySearch(ls, q, low, high):\n",
    "    if low > high:\n",
    "        return -1\n",
    "    mid = low + ((high - low) // 2)\n",
    "    if q < ls[mid]:\n",
    "        return binarySearch(ls, q, low, mid - 1)\n",
    "    elif q > ls[mid]:\n",
    "        return binarySearch(ls, q, mid + 1, high)\n",
    "    else:\n",
    "        return mid"
   ]
  },
  {
   "cell_type": "code",
   "execution_count": 8,
   "metadata": {},
   "outputs": [
    {
     "name": "stdout",
     "output_type": "stream",
     "text": [
      "Elements of list in increasing order = 4 5 7 10 20 45\n",
      "Element to search = 45\n",
      "Element found at index 5\n"
     ]
    }
   ],
   "source": [
    "ls = [int(i) for i in input(\"Elements of list in increasing order = \").split(\" \")]\n",
    "q = int(input(\"Element to search = \"))\n",
    "ind = binarySearch(ls, q, 0, len(ls) - 1)\n",
    "print(\"Element not found\" if ind == -1 else f\"Element found at index {ind}\")"
   ]
  },
  {
   "cell_type": "code",
   "execution_count": null,
   "metadata": {},
   "outputs": [],
   "source": []
  }
 ],
 "metadata": {
  "kernelspec": {
   "display_name": "Python 3",
   "language": "python",
   "name": "python3"
  },
  "language_info": {
   "codemirror_mode": {
    "name": "ipython",
    "version": 3
   },
   "file_extension": ".py",
   "mimetype": "text/x-python",
   "name": "python",
   "nbconvert_exporter": "python",
   "pygments_lexer": "ipython3",
   "version": "3.6.9"
  }
 },
 "nbformat": 4,
 "nbformat_minor": 2
}
