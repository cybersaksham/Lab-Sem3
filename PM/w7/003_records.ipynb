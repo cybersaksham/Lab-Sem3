{
 "cells": [
  {
   "cell_type": "code",
   "execution_count": 5,
   "metadata": {},
   "outputs": [],
   "source": [
    "class Student:\n",
    "    def __init__(self, name, age, tag):\n",
    "        self.name = name\n",
    "        self.age = age\n",
    "        self.tag = tag\n",
    "\n",
    "        if self.tag.lower() == \"pg\":\n",
    "            print(\"Enter your cgpa: \", end=\"\")\n",
    "            self.cgpa = float(input())\n",
    "            print(\"Enter your degree: \", end=\"\")\n",
    "            self.degree = input()\n",
    "            print(\"Enter your journals: \", end=\"\")\n",
    "            self.journals = input()\n",
    "\n",
    "    def getInfo(self):\n",
    "        print(\"Name: \", self.name)\n",
    "        print(\"Age: \", self.age)\n",
    "        print(\"Tag: \", self.tag)\n",
    "\n",
    "        if self.tag.lower() == \"pg\":\n",
    "            print(\"CGPA: \", self.cgpa)\n",
    "            print(\"Degree: \", self.degree)\n",
    "            print(\"Journals: \", self.journals)"
   ]
  },
  {
   "cell_type": "code",
   "execution_count": 8,
   "metadata": {},
   "outputs": [
    {
     "name": "stdout",
     "output_type": "stream",
     "text": [
      "Enter UG student details: \n",
      "Name = Saksham\n",
      "Age = 18\n",
      "Enter PG student details: \n",
      "Name = Saksham\n",
      "Age = 19\n",
      "Enter your cgpa: 8.9\n",
      "Enter your degree: b.tech\n",
      "Enter your journals: coputer\n",
      "\n",
      "UG Student Details:\n",
      "Name:  Saksham\n",
      "Age:  18\n",
      "Tag:  UG\n",
      "\n",
      "PG Student Details:\n",
      "Name:  Saksham\n",
      "Age:  19\n",
      "Tag:  PG\n",
      "CGPA:  8.9\n",
      "Degree:  b.tech\n",
      "Journals:  coputer\n"
     ]
    }
   ],
   "source": [
    "print(\"Enter UG student details: \")\n",
    "nameUG = input(\"Name = \")\n",
    "ageUG = int(input(\"Age = \"))\n",
    "ugStudent = Student(nameUG, ageUG, \"UG\")\n",
    "\n",
    "print(\"Enter PG student details: \")\n",
    "namePG = input(\"Name = \")\n",
    "agePG = int(input(\"Age = \"))\n",
    "pgStudent = Student(namePG, agePG, \"PG\")\n",
    "\n",
    "print()\n",
    "print(\"UG Student Details:\")\n",
    "ugStudent.getInfo()\n",
    "print()\n",
    "print(\"PG Student Details:\")\n",
    "pgStudent.getInfo()"
   ]
  },
  {
   "cell_type": "code",
   "execution_count": null,
   "metadata": {},
   "outputs": [],
   "source": []
  }
 ],
 "metadata": {
  "kernelspec": {
   "display_name": "Python 3",
   "language": "python",
   "name": "python3"
  },
  "language_info": {
   "codemirror_mode": {
    "name": "ipython",
    "version": 3
   },
   "file_extension": ".py",
   "mimetype": "text/x-python",
   "name": "python",
   "nbconvert_exporter": "python",
   "pygments_lexer": "ipython3",
   "version": "3.6.9"
  }
 },
 "nbformat": 4,
 "nbformat_minor": 2
}
